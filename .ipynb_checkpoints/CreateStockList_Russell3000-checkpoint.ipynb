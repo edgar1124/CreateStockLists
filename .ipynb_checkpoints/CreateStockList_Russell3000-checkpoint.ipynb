{
 "cells": [
  {
   "cell_type": "code",
   "execution_count": 1,
   "metadata": {},
   "outputs": [],
   "source": [
    "from bs4 import BeautifulSoup\n",
    "from googlesearch import search\n",
    "from tabula import read_pdf\n",
    "\n",
    "import pandas as pd\n",
    "import json, logging, pickle, re, requests"
   ]
  },
  {
   "cell_type": "code",
   "execution_count": 2,
   "metadata": {},
   "outputs": [],
   "source": [
    "logging.basicConfig(filename='CreateStockList_Russell3000_SixFiles_Log.txt',level=logging.DEBUG, format='%(asctime)s - %(levelname)s - %(message)s')\n",
    "\n",
    "#logging.disable(logging.CRITICAL)"
   ]
  },
  {
   "cell_type": "code",
   "execution_count": 5,
   "metadata": {},
   "outputs": [],
   "source": [
    "def GetSavePDF():\n",
    "    \n",
    "    url_list = search(\"Russell 3000 Membership List\", tld=\"com\", num=5, stop=5, pause=2)\n",
    "    \n",
    "    for url in url_list:\n",
    "        if re.search('ftserussell', url) and re.search('pdf', url):\n",
    "            response = requests.get(url)\n",
    "            file = open('Russell3000_MembershipList.pdf', 'wb')\n",
    "            file.write(response.content)\n",
    "            file.close()\n",
    "            \n",
    "            break\n",
    "    \n",
    "    CreateStockList()\n",
    "    \n",
    "    return\n",
    "\n",
    "def CreateStockList():\n",
    "    \n",
    "    df_list = read_pdf('Russell3000_MembershipList.pdf', pages ='all')\n",
    "    \n",
    "    tickers = []\n",
    "    \n",
    "    df = pd.concat(df_list)\n",
    "    tickers = list(df['Ticker']) + list(df['Unnamed: 0'])\n",
    "    \n",
    "    CleanStockList(list(dict.fromkeys(tickers)))\n",
    "    \n",
    "    return\n",
    "\n",
    "def CleanStockList(stocks_dirty):\n",
    "    \n",
    "    stocks_cleaned = []\n",
    "    \n",
    "    for s in stocks_dirty:\n",
    "        try:\n",
    "            if (len(s) >= 1) and not (re.match(r'nan', s)):\n",
    "                stocks_cleaned.append(\"\".join(s.split()))\n",
    "        except Exception as e:\n",
    "                logging.info(f'Exception for {s}: {e}')\n",
    "\n",
    "    return stocks_cleaned\n",
    "\n",
    "GetSavePDF()\n"
   ]
  },
  {
   "cell_type": "code",
   "execution_count": null,
   "metadata": {},
   "outputs": [],
   "source": []
  },
  {
   "cell_type": "code",
   "execution_count": null,
   "metadata": {},
   "outputs": [],
   "source": []
  }
 ],
 "metadata": {
  "kernelspec": {
   "display_name": "Python 3",
   "language": "python",
   "name": "python3"
  },
  "language_info": {
   "codemirror_mode": {
    "name": "ipython",
    "version": 3
   },
   "file_extension": ".py",
   "mimetype": "text/x-python",
   "name": "python",
   "nbconvert_exporter": "python",
   "pygments_lexer": "ipython3",
   "version": "3.7.6"
  }
 },
 "nbformat": 4,
 "nbformat_minor": 4
}
