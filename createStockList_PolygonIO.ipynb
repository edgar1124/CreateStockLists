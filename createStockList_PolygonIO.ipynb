{
 "cells": [
  {
   "cell_type": "code",
   "execution_count": 6,
   "metadata": {},
   "outputs": [],
   "source": [
    "#######################################################################################################\n",
    "# Stock Market Analysis                                                                               #\n",
    "#                                                                                                     #\n",
    "# This code creates a list of all active stock tickers traded on US stock exchanges and saves the     #   \n",
    "# data to a csv file.                                                                                 #\n",
    "#                                                                                                     #\n",
    "# The code uses the following naming convention: variable_names, FunctionNames, fileNames.            #\n",
    "#                                                                                                     #\n",
    "# by Edgar Fogelman                                                                                   #\n",
    "#                                                                                                     #\n",
    "#######################################################################################################"
   ]
  },
  {
   "cell_type": "code",
   "execution_count": 7,
   "metadata": {},
   "outputs": [],
   "source": [
    "import csv, datetime, logging, os, pickle\n",
    "import pandas as pd\n",
    "from polygon import RESTClient\n",
    "from time import sleep\n",
    "\n",
    "from functions import exchangeData, loggingFile, readData, saveData\n",
    "from ignore import settings\n",
    "key = settings.key\n"
   ]
  },
  {
   "cell_type": "code",
   "execution_count": 9,
   "metadata": {},
   "outputs": [
    {
     "name": "stdout",
     "output_type": "stream",
     "text": [
      "Logging filepath is /Users/ed/CodingOnMac/StockAnalysis/CreateStockLists/ignore/logs\n"
     ]
    }
   ],
   "source": [
    "# Set variable and file path for use in testing or deployment\n",
    "#filePath.SetFilePath()\n",
    "\n",
    "# Set filename and filepaths for logs, and delete old log files every Sunday\n",
    "#filename_logs, filepath_logs = loggingFile.ConfigureLoggingFile('/logs/WikipediaStockSearch_log.txt')\n",
    "\n",
    "##############\n",
    "\n",
    "logging.basicConfig(filename = loggingFile.ConfigureLoggingFile('createStockLists_Log.txt') + \\\n",
    "                    '/createStockLists_Log.txt', level = logging.DEBUG, \\\n",
    "                    format = '%(asctime)s - %(levelname)s - %(message)s')\n",
    "\n",
    "logging.info('Logging configured')\n"
   ]
  },
  {
   "cell_type": "code",
   "execution_count": 4,
   "metadata": {},
   "outputs": [
    {
     "name": "stdout",
     "output_type": "stream",
     "text": [
      "['ARCX', 'XNYS', 'XASE', 'XNAS']\n"
     ]
    }
   ],
   "source": [
    "\n",
    "exchange_list, client_RESTClient = exchangeData.GetData()\n",
    "saveData.WriteToPickle('activeStockExchanges', exchange_list)\n",
    "\n",
    "logging.info(f'Active US stock exchange data acquired, cleaned, and saved')\n"
   ]
  },
  {
   "cell_type": "code",
   "execution_count": 5,
   "metadata": {},
   "outputs": [
    {
     "name": "stdout",
     "output_type": "stream",
     "text": [
      "ARCX\n"
     ]
    },
    {
     "ename": "KeyboardInterrupt",
     "evalue": "",
     "output_type": "error",
     "traceback": [
      "\u001b[0;31m---------------------------------------------------------------------------\u001b[0m",
      "\u001b[0;31mKeyboardInterrupt\u001b[0m                         Traceback (most recent call last)",
      "Cell \u001b[0;32mIn[5], line 10\u001b[0m\n\u001b[1;32m      8\u001b[0m     active_tickers\u001b[39m.\u001b[39mappend(t\u001b[39m.\u001b[39mticker)\n\u001b[1;32m      9\u001b[0m     i\u001b[39m+\u001b[39m\u001b[39m=\u001b[39m\u001b[39m1\u001b[39m\n\u001b[0;32m---> 10\u001b[0m     sleep(\u001b[39m20\u001b[39m)\n\u001b[1;32m     12\u001b[0m \u001b[39m#file_name = ex + i\u001b[39;00m\n\u001b[1;32m     13\u001b[0m \u001b[39m#saveData.WriteToPickle(file_name)\u001b[39;00m\n\u001b[1;32m     14\u001b[0m \u001b[39mprint\u001b[39m(\u001b[39mf\u001b[39m\u001b[39m'\u001b[39m\u001b[39mi: \u001b[39m\u001b[39m{\u001b[39;00mi\u001b[39m}\u001b[39;00m\u001b[39m'\u001b[39m)\n",
      "\u001b[0;31mKeyboardInterrupt\u001b[0m: "
     ]
    }
   ],
   "source": [
    "active_tickers = []\n",
    "\n",
    "for ex in exchange_list:\n",
    "    i = 0\n",
    "    print(ex)\n",
    "\n",
    "    for t in client_RESTClient.list_tickers(market='stocks', exchange = ex):\n",
    "        active_tickers.append(t.ticker)\n",
    "        i+=1\n",
    "        sleep(20)\n",
    "\n",
    "    #file_name = ex + i\n",
    "    #saveData.WriteToPickle(file_name)\n",
    "    print(f'i: {i}')\n"
   ]
  },
  {
   "cell_type": "code",
   "execution_count": 48,
   "metadata": {},
   "outputs": [],
   "source": [
    "saveData.WriteToPickle('stockList', active_tickers)"
   ]
  },
  {
   "cell_type": "code",
   "execution_count": null,
   "metadata": {},
   "outputs": [],
   "source": []
  }
 ],
 "metadata": {
  "kernelspec": {
   "display_name": "Python 3",
   "language": "python",
   "name": "python3"
  },
  "language_info": {
   "codemirror_mode": {
    "name": "ipython",
    "version": 3
   },
   "file_extension": ".py",
   "mimetype": "text/x-python",
   "name": "python",
   "nbconvert_exporter": "python",
   "pygments_lexer": "ipython3",
   "version": "3.7.6"
  },
  "vscode": {
   "interpreter": {
    "hash": "aee8b7b246df8f9039afb4144a1f6fd8d2ca17a180786b69acc140d282b71a49"
   }
  }
 },
 "nbformat": 4,
 "nbformat_minor": 2
}
