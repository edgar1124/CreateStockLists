{
 "cells": [
  {
   "cell_type": "code",
   "execution_count": 1,
   "metadata": {},
   "outputs": [],
   "source": [
    "#######################################################################################################\n",
    "# Stock Market Analysis                                                                               #\n",
    "#                                                                                                     #\n",
    "# This code creates a list of all active stock tickers traded on US stock exchanges and saves the     #   \n",
    "# data to a csv file.                                                                                 #\n",
    "#                                                                                                     #\n",
    "# The code uses the following naming convention: variable_names, FunctionNames, fileNames.            #\n",
    "#                                                                                                     #\n",
    "# by Edgar Fogelman                                                                                   #\n",
    "#                                                                                                     #\n",
    "#######################################################################################################"
   ]
  },
  {
   "cell_type": "code",
   "execution_count": 2,
   "metadata": {},
   "outputs": [
    {
     "name": "stderr",
     "output_type": "stream",
     "text": [
      "/var/folders/sl/7by4x8mn3vqd8w28l67hdxhh0000gn/T/ipykernel_38909/655153568.py:2: DeprecationWarning: \n",
      "Pyarrow will become a required dependency of pandas in the next major release of pandas (pandas 3.0),\n",
      "(to allow more performant data types, such as the Arrow string type, and better interoperability with other libraries)\n",
      "but was not found to be installed on your system.\n",
      "If this would cause problems for you,\n",
      "please provide us feedback at https://github.com/pandas-dev/pandas/issues/54466\n",
      "        \n",
      "  import pandas as pd\n"
     ]
    }
   ],
   "source": [
    "import csv, datetime, logging, os, pickle\n",
    "import pandas as pd\n",
    "from polygon import RESTClient\n",
    "from time import sleep\n",
    "\n",
    "from functions import exchangeData, loggingFile, readData, saveData\n",
    "from ignore import settings\n",
    "key = settings.key\n"
   ]
  },
  {
   "cell_type": "code",
   "execution_count": 3,
   "metadata": {},
   "outputs": [
    {
     "name": "stdout",
     "output_type": "stream",
     "text": [
      "Logging filepath is /Users/ed/CodingOnMac/StockAnalysis/CreateStockLists/ignore/logs\n"
     ]
    }
   ],
   "source": [
    "# Set variable and file path for use in testing or deployment\n",
    "#filePath.SetFilePath()\n",
    "\n",
    "# Set filename and filepaths for logs, and delete old log files every Sunday\n",
    "#filename_logs, filepath_logs = loggingFile.ConfigureLoggingFile('/logs/WikipediaStockSearch_log.txt')\n",
    "\n",
    "##############\n",
    "\n",
    "#logging.basicConfig(filename = loggingFile.ConfigureLoggingFile('createStockLists_Log.txt') + \\\n",
    "#                    '/createStockLists_Log.txt', level = logging.DEBUG, \\\n",
    "#                    format = '%(asctime)s - %(levelname)s - %(message)s')\n",
    "\n",
    "logging.basicConfig(filename = loggingFile.ConfigureLoggingFile('StockList_Log.txt'),\n",
    "                    level = logging.DEBUG, format = '%(asctime)s - %(levelname)s - %(message)s')\n",
    "\n",
    "logging.info('Logging configured')\n"
   ]
  },
  {
   "cell_type": "code",
   "execution_count": 4,
   "metadata": {},
   "outputs": [],
   "source": [
    "\n",
    "exchange_list, client_RESTClient = exchangeData.GetData()\n",
    "saveData.WriteToPickle('activeStockExchanges', exchange_list)\n",
    "\n",
    "logging.info(f'Active US stock exchange data acquired, cleaned, and saved')\n"
   ]
  },
  {
   "cell_type": "code",
   "execution_count": 5,
   "metadata": {},
   "outputs": [
    {
     "ename": "KeyboardInterrupt",
     "evalue": "",
     "output_type": "error",
     "traceback": [
      "\u001b[0;31m---------------------------------------------------------------------------\u001b[0m",
      "\u001b[0;31mKeyboardInterrupt\u001b[0m                         Traceback (most recent call last)",
      "Cell \u001b[0;32mIn[5], line 11\u001b[0m\n\u001b[1;32m      9\u001b[0m     logging\u001b[39m.\u001b[39minfo(\u001b[39mf\u001b[39m\u001b[39m'\u001b[39m\u001b[39mExchange: \u001b[39m\u001b[39m{\u001b[39;00mexchange_today\u001b[39m}\u001b[39;00m\u001b[39m, ticker: \u001b[39m\u001b[39m{\u001b[39;00mt\u001b[39m.\u001b[39mticker\u001b[39m}\u001b[39;00m\u001b[39m, counter: \u001b[39m\u001b[39m{\u001b[39;00mi\u001b[39m}\u001b[39;00m\u001b[39m'\u001b[39m)\n\u001b[1;32m     10\u001b[0m     i\u001b[39m+\u001b[39m\u001b[39m=\u001b[39m\u001b[39m1\u001b[39m\n\u001b[0;32m---> 11\u001b[0m     sleep(\u001b[39m20\u001b[39;49m)\n\u001b[1;32m     13\u001b[0m \u001b[39mexcept\u001b[39;00m \u001b[39mException\u001b[39;00m \u001b[39mas\u001b[39;00m e:\n\u001b[1;32m     14\u001b[0m     logging\u001b[39m.\u001b[39minfo(\u001b[39m'\u001b[39m\u001b[39m/\u001b[39m\u001b[39m\\\u001b[39m\u001b[39m/\u001b[39m\u001b[39m\\\u001b[39m\u001b[39m/\u001b[39m\u001b[39m\\\u001b[39m\u001b[39m/\u001b[39m\u001b[39m\\\u001b[39m\u001b[39m/\u001b[39m\u001b[39m\\\u001b[39m\u001b[39m/\u001b[39m\u001b[39m\\\u001b[39m\u001b[39m/\u001b[39m\u001b[39m\\\u001b[39m\u001b[39m/\u001b[39m\u001b[39m\\\u001b[39m\u001b[39m/\u001b[39m\u001b[39m\\\u001b[39m\u001b[39m/\u001b[39m\u001b[39m\\\u001b[39m\u001b[39m/Main exception: \u001b[39m\u001b[39m{e}\u001b[39;00m\u001b[39m/\u001b[39m\u001b[39m\\\u001b[39m\u001b[39m/\u001b[39m\u001b[39m\\\u001b[39m\u001b[39m/\u001b[39m\u001b[39m\\\u001b[39m\u001b[39m/\u001b[39m\u001b[39m\\\u001b[39m\u001b[39m/\u001b[39m\u001b[39m\\\u001b[39m\u001b[39m/\u001b[39m\u001b[39m\\\u001b[39m\u001b[39m/\u001b[39m\u001b[39m\\\u001b[39m\u001b[39m/\u001b[39m\u001b[39m\\\u001b[39m\u001b[39m/\u001b[39m\u001b[39m\\\u001b[39m\u001b[39m/\u001b[39m\u001b[39m\\\u001b[39m\u001b[39m/\u001b[39m\u001b[39m'\u001b[39m)\n",
      "\u001b[0;31mKeyboardInterrupt\u001b[0m: "
     ]
    }
   ],
   "source": [
    "active_tickers = []\n",
    "i = 0\n",
    "\n",
    "exchange_today = exchange_list[datetime.datetime.today().day%4]\n",
    "\n",
    "print('Let\"s go go go!')\n",
    "for t in client_RESTClient.list_tickers(market='stocks', exchange = exchange_today):\n",
    "    try:\n",
    "        active_tickers.append(t.ticker)\n",
    "        logging.info(f'Exchange: {exchange_today}, ticker: {t.ticker}, counter: {i}')\n",
    "        i+=1\n",
    "        sleep(20)\n",
    "\n",
    "    except Exception as e:\n",
    "        logging.info(f'/\\/\\/\\/\\/\\/\\/\\/\\/\\/\\/Main exception: {e}/\\/\\/\\/\\/\\/\\/\\/\\/\\/\\/')\n",
    "\n",
    "\n",
    "logging.info('/\\/\\/\\/\\/\\/\\/\\/\\/\\/\\/Stock list compiled/\\/\\/\\/\\/\\/\\/\\/\\/\\/\\/')\n",
    "file_name = exchange_today + '_StockList_' + i\n",
    "saveData.WriteToPickle(file_name, active_tickers)\n"
   ]
  },
  {
   "cell_type": "code",
   "execution_count": null,
   "metadata": {},
   "outputs": [],
   "source": []
  }
 ],
 "metadata": {
  "kernelspec": {
   "display_name": "Python 3",
   "language": "python",
   "name": "python3"
  },
  "language_info": {
   "codemirror_mode": {
    "name": "ipython",
    "version": 3
   },
   "file_extension": ".py",
   "mimetype": "text/x-python",
   "name": "python",
   "nbconvert_exporter": "python",
   "pygments_lexer": "ipython3",
   "version": "3.7.6"
  },
  "vscode": {
   "interpreter": {
    "hash": "aee8b7b246df8f9039afb4144a1f6fd8d2ca17a180786b69acc140d282b71a49"
   }
  }
 },
 "nbformat": 4,
 "nbformat_minor": 2
}
